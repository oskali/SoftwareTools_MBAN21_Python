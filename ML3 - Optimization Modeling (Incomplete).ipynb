{
 "cells": [
  {
   "cell_type": "markdown",
   "metadata": {},
   "source": [
    "# Optimization in Python\n",
    "\n",
    "You might have noticed that we didn't do anything related to sparsity with scikit-learn models. A lot of the work we covered in the machine learning class is very recent research, and as such is typically not implemented by the popular libraries.\n",
    "\n",
    "If we want to do things like sparse regression, we're going to have to roll up our sleeves and do it ourselves. For that, we need to be able to solve optimization problems. In Julia, we did this with JuMP. In Python, we'll use a similar library called *pyomo*."
   ]
  },
  {
   "cell_type": "markdown",
   "metadata": {},
   "source": [
    "# Installing pyomo"
   ]
  },
  {
   "cell_type": "markdown",
   "metadata": {},
   "source": [
    "You can run the following command to install pyomo if you haven't already."
   ]
  },
  {
   "cell_type": "code",
   "execution_count": null,
   "metadata": {
    "scrolled": true
   },
   "outputs": [],
   "source": [
    "!pip install pyomo --user"
   ]
  },
  {
   "cell_type": "markdown",
   "metadata": {},
   "source": [
    "# Intro to pyomo\n",
    "\n",
    "Let's see how we translate a simple, 2 variable LP to pyomo code.\n",
    "\n",
    "$$\n",
    "\\begin{align*}\n",
    "\\max_{x,y} \\quad& x + 2y \\\\\n",
    "\\text{s.t.}\\quad& x + y \\leq 1 \\\\\n",
    "& x, y \\geq 0.\n",
    "\\end{align*}\n",
    "$$"
   ]
  },
  {
   "cell_type": "markdown",
   "metadata": {},
   "source": [
    "First thing is to import the pyomo functions:"
   ]
  },
  {
   "cell_type": "code",
   "execution_count": null,
   "metadata": {},
   "outputs": [],
   "source": [
    "from pyomo.environ import *\n",
    "from pyomo.opt import SolverFactory"
   ]
  },
  {
   "cell_type": "markdown",
   "metadata": {},
   "source": [
    "Next, we construct a model object. This is a container for everything in our optimization problem: variables, constraints, solver options, etc."
   ]
  },
  {
   "cell_type": "code",
   "execution_count": null,
   "metadata": {},
   "outputs": [],
   "source": [
    "m = ConcreteModel()"
   ]
  },
  {
   "cell_type": "markdown",
   "metadata": {},
   "source": [
    "Next, we define the two decision variables in our optimization problem. We use the ``Var`` function to create the variables. The `within` keyword is used to specify the bounds on the variables, or equivalently the `bounds` keyword. The variables are added to the model object with names `x` and `y`."
   ]
  },
  {
   "cell_type": "code",
   "execution_count": null,
   "metadata": {},
   "outputs": [],
   "source": [
    "m.x = Var(within=NonNegativeReals)\n",
    "m.y = Var(bounds=(0, float('inf')))"
   ]
  },
  {
   "cell_type": "markdown",
   "metadata": {},
   "source": [
    "We now add the single constraint of our problem using the ``Constraint`` function. We write it algebraically, and save the result to the model."
   ]
  },
  {
   "cell_type": "code",
   "execution_count": null,
   "metadata": {},
   "outputs": [],
   "source": [
    "m.con = Constraint(expr=m.x + m.y <= 1)"
   ]
  },
  {
   "cell_type": "markdown",
   "metadata": {},
   "source": [
    "We specify the objective function with the `Objective` function:"
   ]
  },
  {
   "cell_type": "code",
   "execution_count": null,
   "metadata": {},
   "outputs": [],
   "source": [
    "m.obj = Objective(sense=maximize, expr=m.x + 2 * m.y)"
   ]
  },
  {
   "cell_type": "markdown",
   "metadata": {},
   "source": [
    "We solve the optimization problem by first specifying a solver using `SolverFactory` and then using this solver to solve the model:"
   ]
  },
  {
   "cell_type": "code",
   "execution_count": null,
   "metadata": {},
   "outputs": [],
   "source": [
    "solver = SolverFactory('gurobi')\n",
    "solver.solve(m)"
   ]
  },
  {
   "cell_type": "markdown",
   "metadata": {},
   "source": [
    "We can now inspect the solution values and optimal cost."
   ]
  },
  {
   "cell_type": "code",
   "execution_count": null,
   "metadata": {},
   "outputs": [],
   "source": [
    "m.obj()"
   ]
  },
  {
   "cell_type": "code",
   "execution_count": null,
   "metadata": {},
   "outputs": [],
   "source": [
    "m.x.value"
   ]
  },
  {
   "cell_type": "code",
   "execution_count": null,
   "metadata": {},
   "outputs": [],
   "source": [
    "m.y.value"
   ]
  },
  {
   "cell_type": "markdown",
   "metadata": {},
   "source": [
    "Let's put it all together to compare with Julia/JuMP"
   ]
  },
  {
   "cell_type": "code",
   "execution_count": null,
   "metadata": {},
   "outputs": [],
   "source": [
    "# Create model\n",
    "m = ConcreteModel()\n",
    "# Add variables\n",
    "m.x = Var(within=NonNegativeReals)\n",
    "m.y = Var(bounds=(0, float('inf')))\n",
    "# Add constraint\n",
    "m.con = Constraint(expr=m.x + m.y <= 1)\n",
    "# Add objective\n",
    "m.obj = Objective(sense=maximize, expr=m.x + 2 * m.y)\n",
    "# Solve model\n",
    "solver = SolverFactory('gurobi')\n",
    "solver.solve(m)\n",
    "# Inspect solution\n",
    "print(m.obj())\n",
    "print(m.x.value)\n",
    "print(m.y.value)"
   ]
  },
  {
   "cell_type": "markdown",
   "metadata": {},
   "source": [
    "```julia\n",
    "# Create model\n",
    "m = Model(solver=GurobiSolver())\n",
    "# Add variables\n",
    "@variable(m, x >= 0)\n",
    "@variable(m, y >= 0)\n",
    "# Add constraint\n",
    "@constraint(m, x + y <= 1)\n",
    "# Add objective\n",
    "@objective(m, Max, x + 2y)\n",
    "# Solve model\n",
    "solve(m)\n",
    "# Inspect solution\n",
    "@show getobjectivevalue(m)\n",
    "@show getvalue(x)\n",
    "@show getvalue(y)\n",
    "```"
   ]
  },
  {
   "cell_type": "markdown",
   "metadata": {},
   "source": [
    "### Exercise\n",
    "\n",
    "Code and solve the following optimization problem:\n",
    "\n",
    "$$\n",
    "\\begin{align*}\n",
    "\\min_{x,y} \\quad& 3x - y \\\\\n",
    "\\text{s.t.}\\quad& x + 2y \\geq 1 \\\\\n",
    "& x \\geq 0 \\\\\n",
    "& 0 \\leq y \\leq 1.\n",
    "\\end{align*}\n",
    "$$"
   ]
  },
  {
   "cell_type": "code",
   "execution_count": null,
   "metadata": {},
   "outputs": [],
   "source": []
  },
  {
   "cell_type": "markdown",
   "metadata": {},
   "source": [
    "# Index sets\n",
    "\n",
    "Let's now move to a more complicated problem. We'll look at a transportation problem:\n",
    "\n",
    "$$\n",
    "\\begin{align}\n",
    "\\min & \\sum\\limits_{i = 1}^{m} \\sum\\limits_{j = 1}^{n} c_{ij} x_{ij}\\\\\n",
    "& \\sum\\limits_{j = 1}^{n} x_{ij} \\leq b_i && i = 1, \\ldots, m\\\\\n",
    "& \\sum\\limits_{i = 1}^{m} x_{ij} = d_j && j = 1, \\ldots, n\\\\\n",
    "& x_{ij} \\ge 0 && i = 1, \\ldots, m, j = 1, \\ldots, n\n",
    "\\end{align}\n",
    "$$\n",
    "\n",
    "And with some data:"
   ]
  },
  {
   "cell_type": "code",
   "execution_count": null,
   "metadata": {},
   "outputs": [],
   "source": [
    "import numpy as np\n",
    "\n",
    "m = 2  # Number of supply nodes\n",
    "n = 5  # Number of demand nodes\n",
    "# Supplies\n",
    "b = np.array([1000, 4000])\n",
    "# Demands\n",
    "d = np.array([500, 900, 1800, 200, 700])\n",
    "# Costs\n",
    "c = np.array([[2, 4, 5, 2, 1], \n",
    "              [3, 1, 3, 2, 3]])"
   ]
  },
  {
   "cell_type": "markdown",
   "metadata": {},
   "source": [
    "Now we can formulate the problem with pyomo"
   ]
  },
  {
   "cell_type": "code",
   "execution_count": null,
   "metadata": {},
   "outputs": [],
   "source": [
    "model = ConcreteModel()"
   ]
  },
  {
   "cell_type": "markdown",
   "metadata": {},
   "source": [
    "First step is adding variables. We can add variables with indices by passing the relevant index sets to the `Var` constructor. In this case, we need a $m$-by$n$ matrix of variables:"
   ]
  },
  {
   "cell_type": "code",
   "execution_count": null,
   "metadata": {},
   "outputs": [],
   "source": [
    "model.x = Var(range(m), range(n), within=NonNegativeReals)"
   ]
  },
  {
   "cell_type": "markdown",
   "metadata": {},
   "source": [
    "Now to add the constraints. We have to add one supply constraint for each factory, so we might try something like:"
   ]
  },
  {
   "cell_type": "code",
   "execution_count": null,
   "metadata": {},
   "outputs": [],
   "source": [
    "for i in range(m):\n",
    "    model.supply = Constraint(expr=sum(model.x[i, j] for j in range(n)) <= b[i])"
   ]
  },
  {
   "cell_type": "markdown",
   "metadata": {},
   "source": [
    "Can you see the problem? We are overwriting `model.supply` in each iteration of the loop, and so only the last constraint is applied.\n",
    "\n",
    "Luckily, pyomo has a (not-so-easy) way to add multiple constraints at a time. We first define a *rule* that takes in the model and any required indices, and then returns the expression for the constraint:"
   ]
  },
  {
   "cell_type": "code",
   "execution_count": null,
   "metadata": {},
   "outputs": [],
   "source": [
    "def supply_rule(model, i):\n",
    "    return sum(model.x[i, j] for j in range(n)) <= b[i]"
   ]
  },
  {
   "cell_type": "markdown",
   "metadata": {},
   "source": [
    "We then add the constraint by referencing this rule along with the index set we want the constraint to be defined over:"
   ]
  },
  {
   "cell_type": "code",
   "execution_count": null,
   "metadata": {},
   "outputs": [],
   "source": [
    "model.supply2 = Constraint(range(m), rule=supply_rule)"
   ]
  },
  {
   "cell_type": "markdown",
   "metadata": {},
   "source": [
    "We then apply the same approach for the demand constraints"
   ]
  },
  {
   "cell_type": "code",
   "execution_count": null,
   "metadata": {},
   "outputs": [],
   "source": [
    "def demand_rule(model, j):\n",
    "    return sum(model.x[i, j] for i in range(m)) == d[j]\n",
    "model.demand = Constraint(range(n), rule=demand_rule)"
   ]
  },
  {
   "cell_type": "markdown",
   "metadata": {},
   "source": [
    "Finally, we add the objective:"
   ]
  },
  {
   "cell_type": "code",
   "execution_count": null,
   "metadata": {},
   "outputs": [],
   "source": [
    "model.obj = Objective(sense=minimize, \n",
    "    expr=sum(c[i, j] * model.x[i, j] \n",
    "    for i in range(m) for j in range(n)))"
   ]
  },
  {
   "cell_type": "markdown",
   "metadata": {},
   "source": [
    "Now we can solve the problem"
   ]
  },
  {
   "cell_type": "code",
   "execution_count": null,
   "metadata": {},
   "outputs": [],
   "source": [
    "solver = SolverFactory('gurobi')\n",
    "solver.solve(model)"
   ]
  },
  {
   "cell_type": "markdown",
   "metadata": {},
   "source": [
    "It solved, so we can extract the results"
   ]
  },
  {
   "cell_type": "code",
   "execution_count": null,
   "metadata": {},
   "outputs": [],
   "source": [
    "flows = np.array([[model.x[i, j].value for j in range(n)] for i in range(m)])\n",
    "flows"
   ]
  },
  {
   "cell_type": "markdown",
   "metadata": {},
   "source": [
    "We can also check the objective value for the cost of this flow"
   ]
  },
  {
   "cell_type": "code",
   "execution_count": null,
   "metadata": {},
   "outputs": [],
   "source": [
    "model.obj()"
   ]
  },
  {
   "cell_type": "markdown",
   "metadata": {},
   "source": [
    "For simplicity, here is the entire formulation and solving code together:"
   ]
  },
  {
   "cell_type": "code",
   "execution_count": null,
   "metadata": {},
   "outputs": [],
   "source": [
    "model = ConcreteModel()\n",
    "# Variables\n",
    "model.x = Var(range(m), range(n), within=NonNegativeReals)\n",
    "# Supply constraint\n",
    "def supply_rule(model, i):\n",
    "    return sum(model.x[i, j] for j in range(n)) <= b[i]\n",
    "model.supply2 = Constraint(range(m), rule=supply_rule)\n",
    "# Demand constraint\n",
    "def demand_rule(model, j):\n",
    "    return sum(model.x[i, j] for i in range(m)) == d[j]\n",
    "model.demand = Constraint(range(n), rule=demand_rule)\n",
    "# Objective\n",
    "model.obj = Objective(sense=minimize, \n",
    "    expr=sum(c[i, j] * model.x[i, j] \n",
    "    for i in range(m) for j in range(n)))\n",
    "# Solve\n",
    "solver = SolverFactory('gurobi')\n",
    "solver.solve(model)\n",
    "# Get results\n",
    "flows = np.array([[model.x[i, j].value for j in range(n)] for i in range(m)])\n",
    "model.obj()"
   ]
  },
  {
   "cell_type": "markdown",
   "metadata": {},
   "source": [
    "# Machine Learning\n",
    "\n",
    "Now let's put our pyomo knowledge to use and implement some of the same methods we saw in the machine learning class"
   ]
  },
  {
   "cell_type": "markdown",
   "metadata": {},
   "source": [
    "First, specify your solver executable location:"
   ]
  },
  {
   "cell_type": "code",
   "execution_count": null,
   "metadata": {},
   "outputs": [],
   "source": [
    "executable='C:/Users/omars/.julia/v0.6/Ipopt/deps/usr/bin/ipopt.exe'"
   ]
  },
  {
   "cell_type": "markdown",
   "metadata": {},
   "source": [
    "To use the version left over from Julia\n",
    "### On MacOS and Linux\n",
    "\n",
    "`executable=\"~/.julia/v0.6/Homebrew/deps/usr/Cellar/ipopt/3.12.4_1/bin/ipopt\")`\n",
    "\n",
    "### On Windows\n",
    "\n",
    "The path is probably under WinRPM:\n",
    "\n",
    "`executable='%HOME%/.julia/v0.6/WinRPM/...')\")`\n"
   ]
  },
  {
   "cell_type": "markdown",
   "metadata": {},
   "source": [
    "# Linear Regression\n",
    "\n",
    "Let's just try a simple linear regression"
   ]
  },
  {
   "cell_type": "code",
   "execution_count": null,
   "metadata": {},
   "outputs": [],
   "source": [
    "def linear_regression(X, y):\n",
    "    n, p = X.shape\n",
    "\n",
    "    # Create model\n",
    "    m = ConcreteModel()\n",
    "\n",
    "    # Add variables\n",
    "    m.beta = Var(range(p))\n",
    "\n",
    "    # Add constraints\n",
    "\n",
    "    # Add objective\n",
    "    m.obj = Objective(sense=minimize, expr=sum(\n",
    "        pow(y[i] - sum(X[i, j] * m.beta[j] for j in range(p)), 2) \n",
    "        for i in range(n)))\n",
    "\n",
    "    solver = SolverFactory('ipopt', executable=executable)\n",
    "    \n",
    "    ## tee=True enables solver output\n",
    "    # results = solver.solve(m, tee=True)\n",
    "    results = solver.solve(m, tee=False)\n",
    "\n",
    "    return [m.beta[j].value for j in range(p)]"
   ]
  },
  {
   "cell_type": "markdown",
   "metadata": {},
   "source": [
    "Let's load up some data to test it out on:"
   ]
  },
  {
   "cell_type": "code",
   "execution_count": null,
   "metadata": {},
   "outputs": [],
   "source": [
    "from sklearn.datasets import load_boston\n",
    "data = load_boston()\n",
    "X = data.data\n",
    "y = data.target"
   ]
  },
  {
   "cell_type": "markdown",
   "metadata": {},
   "source": [
    "Try our linear regression function:"
   ]
  },
  {
   "cell_type": "code",
   "execution_count": null,
   "metadata": {},
   "outputs": [],
   "source": [
    "print(linear_regression(X, y))"
   ]
  },
  {
   "cell_type": "markdown",
   "metadata": {},
   "source": [
    "We can compare with sklearn to make sure it's right:"
   ]
  },
  {
   "cell_type": "code",
   "execution_count": null,
   "metadata": {},
   "outputs": [],
   "source": [
    "from sklearn.linear_model import LinearRegression\n",
    "m = LinearRegression(fit_intercept=False)\n",
    "m.fit(X, y)\n",
    "m.coef_"
   ]
  },
  {
   "cell_type": "markdown",
   "metadata": {},
   "source": [
    "Just for reference, let's look back at how we do the same thing in JuMP!\n",
    "\n",
    "```julia\n",
    "using JuMP, Gurobi\n",
    "function linear_regression(X, y)\n",
    "    n, p = size(X)\n",
    "    m = Model(solver=GurobiSolver())\n",
    "    @variable(m, beta[1:p])\n",
    "    @objective(m, Min, sum((y[i] - sum(X[i, j] * beta[j] for j = 1:p)) ^ 2 for i = 1:n))\n",
    "    solve(m)\n",
    "    getvalue(beta)\n",
    "end\n",
    "```\n",
    "\n",
    "or even\n",
    "\n",
    "```julia\n",
    "using JuMP, Gurobi\n",
    "function linear_regression(X, y)\n",
    "    n, p = size(X)\n",
    "    m = Model(solver=GurobiSolver())\n",
    "    @variable(m, beta[1:p])\n",
    "    @objective(m, Min, sum((y - X * beta) .^ 2))\n",
    "    solve(m)\n",
    "    getvalue(beta)\n",
    "end\n",
    "```\n",
    "\n",
    "Much simpler!"
   ]
  },
  {
   "cell_type": "markdown",
   "metadata": {},
   "source": [
    "### Exercise\n",
    "\n",
    "Modify the linear regression formulation to include an intercept term, and compare to scikit-learn's LinearRegression with `fit_intercept=False` to make sure it's the same"
   ]
  },
  {
   "cell_type": "code",
   "execution_count": null,
   "metadata": {},
   "outputs": [],
   "source": []
  },
  {
   "cell_type": "markdown",
   "metadata": {},
   "source": [
    "# Robust Regression\n",
    "\n",
    "We saw in the class that both ridge and lasso regression were robust versions of linear regression. Both of these are provided by `sklearn`, but we need to know how to implement them if we want to extend regression ourselves"
   ]
  },
  {
   "cell_type": "code",
   "execution_count": null,
   "metadata": {},
   "outputs": [],
   "source": [
    "def ridge_regression(X, y, rho):\n",
    "    n, p = X.shape\n",
    "\n",
    "    # Create model\n",
    "    m = ConcreteModel()\n",
    "\n",
    "    # Add variables\n",
    "    m.beta = Var(range(p))\n",
    "\n",
    "    # Add objective\n",
    "    m.obj = Objective(sense=minimize, expr=sum(\n",
    "        pow(y[i] - sum(X[i, j] * m.beta[j] for j in range(p)),2) \n",
    "        for i in range(n)) + rho * sum(pow(m.beta[j], 2) for j in range(p)))\n",
    "\n",
    "    solver = SolverFactory('ipopt', executable=executable)\n",
    "    \n",
    "    ## tee=True enables solver output\n",
    "    # results = solver.solve(m, tee=True)\n",
    "    results = solver.solve(m, tee=False)\n",
    "    return [m.beta[j].value for j in range(p)]"
   ]
  },
  {
   "cell_type": "code",
   "execution_count": null,
   "metadata": {},
   "outputs": [],
   "source": [
    "ridge_regression(X, y, 100000)"
   ]
  },
  {
   "cell_type": "code",
   "execution_count": null,
   "metadata": {},
   "outputs": [],
   "source": [
    "def lasso(X, y, rho):\n",
    "    n, p = X.shape\n",
    "\n",
    "    # Create model\n",
    "    m = ConcreteModel()\n",
    "\n",
    "    # Add variables\n",
    "    m.beta = Var(range(p))\n",
    "\n",
    "    # Add objective\n",
    "    m.obj = Objective(sense=minimize, expr=sum(\n",
    "        pow(y[i] - sum(X[i, j] * m.beta[j] for j in range(p)),2) \n",
    "        for i in range(n)) + rho * sum(pow(m.beta[j], 2) for j in range(p)))\n",
    "\n",
    "    solver = SolverFactory('ipopt', executable=executable)\n",
    "    \n",
    "    ## tee=True enables solver output\n",
    "    # results = solver.solve(m, tee=True)\n",
    "    results = solver.solve(m, tee=False)\n",
    "    return [m.beta[j].value for j in range(p)]"
   ]
  },
  {
   "cell_type": "markdown",
   "metadata": {},
   "source": [
    "### Exercise\n",
    "\n",
    "Implement Lasso regression"
   ]
  },
  {
   "cell_type": "code",
   "execution_count": null,
   "metadata": {},
   "outputs": [],
   "source": []
  },
  {
   "cell_type": "markdown",
   "metadata": {},
   "source": [
    "# Sparse Regression"
   ]
  },
  {
   "cell_type": "code",
   "execution_count": null,
   "metadata": {},
   "outputs": [],
   "source": [
    "def sparse_regression(X, y, k):\n",
    "    n, p = X.shape\n",
    "    M = 1000\n",
    "\n",
    "    # Create model\n",
    "    m = ConcreteModel()\n",
    "\n",
    "    # Add variables\n",
    "    m.beta = Var(range(p))\n",
    "    m.z = Var(range(p), within=Binary)\n",
    "\n",
    "    # Add constraints\n",
    "    def bigm1(m, j):\n",
    "        return m.beta[j] <= M * m.z[j]\n",
    "    m.bigm1 = Constraint(range(p), rule=bigm1)\n",
    "    def bigm2(m, j):\n",
    "        return m.beta[j] >= -M * m.z[j]\n",
    "    m.bigm2 = Constraint(range(p), rule=bigm2)\n",
    "        \n",
    "    m.sparsity = Constraint(expr=sum(m.z[j] for j in range(p)) <= k)\n",
    "\n",
    "    # Add objective\n",
    "    m.obj = Objective(sense=minimize, expr=sum(\n",
    "        pow(y[i] - sum(X[i, j] * m.beta[j] for j in range(p)), 2) \n",
    "        for i in range(n)))\n",
    "\n",
    "    solver = SolverFactory('ipopt', executable=executable)\n",
    "    \n",
    "    ## tee=True enables solver output\n",
    "    # results = solver.solve(m, tee=True)\n",
    "    results = solver.solve(m, tee=False)\n",
    "    return [m.beta[j].value for j in range(p)]"
   ]
  },
  {
   "cell_type": "code",
   "execution_count": null,
   "metadata": {},
   "outputs": [],
   "source": [
    "sparse_regression(X, y, 10)"
   ]
  },
  {
   "cell_type": "code",
   "execution_count": null,
   "metadata": {},
   "outputs": [],
   "source": [
    "import numpy as np\n",
    "l = np.array([1,2,3,4])\n",
    "\n",
    "print(l**2)\n",
    "print([sqrt(i) for i in l])"
   ]
  },
  {
   "cell_type": "markdown",
   "metadata": {},
   "source": [
    "### Exercise\n",
    "\n",
    "Try implementing the algorithmic framework for linear regression:\n",
    "- sparsity constraints\n",
    "- lasso regularization\n",
    "- restrict highly correlated pairs of features\n",
    "- nonlinear transformations (just $\\sqrt(x)$ and $x^2$)"
   ]
  },
  {
   "cell_type": "code",
   "execution_count": null,
   "metadata": {},
   "outputs": [],
   "source": []
  },
  {
   "cell_type": "markdown",
   "metadata": {},
   "source": [
    "# Logistic Regression"
   ]
  },
  {
   "cell_type": "markdown",
   "metadata": {},
   "source": [
    "Like JuMP, we need to use a new solver for the nonlinear problem. We can use Ipopt as before, except we have to set it up manually. You'll need to download Ipopt and add it to the PATH. \n",
    "\n",
    "On Mac, you can do this with Homebrew if you have it:"
   ]
  },
  {
   "cell_type": "markdown",
   "metadata": {},
   "source": [
    "The other way is to download a copy of ipopt and specify the path to it exactly when creating the solver. For example, I have a copy of Ipopt left over from JuMP, which I can use by modifying the SolverFactory line as indicated below:"
   ]
  },
  {
   "cell_type": "code",
   "execution_count": null,
   "metadata": {},
   "outputs": [],
   "source": [
    "def logistic_regression(X, y):\n",
    "    n, p = X.shape\n",
    "    \n",
    "    # Convert y to (-1, +1)\n",
    "    assert np.min(y) == 0\n",
    "    assert np.max(y) == 1\n",
    "    Y = y * 2 - 1\n",
    "    assert np.min(Y) == -1\n",
    "    assert np.max(Y) == 1\n",
    "\n",
    "    # Create the model\n",
    "    m = ConcreteModel()\n",
    "\n",
    "    # Add variables\n",
    "    m.b = Var(range(p))\n",
    "    m.b0 = Var()\n",
    "\n",
    "    # Set nonlinear objective function\n",
    "    m.obj = Objective(sense=maximize, expr=-sum(\n",
    "        log(1 + exp(-Y[i] * (sum(X[i, j] * m.b[j] for j in range(p)) + m.b0)))\n",
    "        for i in range(n)))\n",
    "\n",
    "    # Solve the model and get the optimal solutions\n",
    "    solver = SolverFactory('ipopt', executable=executable)\n",
    "        \n",
    "    solver.solve(m)\n",
    "    return [m.b[j].value for j in range(p)], m.b0.value"
   ]
  },
  {
   "cell_type": "markdown",
   "metadata": {},
   "source": [
    "Load up some data"
   ]
  },
  {
   "cell_type": "code",
   "execution_count": null,
   "metadata": {},
   "outputs": [],
   "source": [
    "from sklearn.datasets import load_breast_cancer\n",
    "data = load_breast_cancer()\n",
    "X = data.data\n",
    "y = data.target"
   ]
  },
  {
   "cell_type": "code",
   "execution_count": null,
   "metadata": {},
   "outputs": [],
   "source": [
    "logistic_regression(X, y)"
   ]
  },
  {
   "cell_type": "markdown",
   "metadata": {
    "collapsed": true
   },
   "source": [
    "### Exercise\n",
    "\n",
    "Implement the regularized versions of logistic regression that scikit-learn provides:\n",
    "\n",
    "![](http://scikit-learn.org/stable/_images/math/6a0bcf21baaeb0c2b879ab74fe333c0aab0d6ae6.png)\n",
    "\n",
    "![](http://scikit-learn.org/stable/_images/math/760c999ccbc78b72d2a91186ba55ce37f0d2cf37.png)"
   ]
  },
  {
   "cell_type": "code",
   "execution_count": null,
   "metadata": {},
   "outputs": [],
   "source": []
  }
 ],
 "metadata": {
  "kernelspec": {
   "display_name": "Python 3",
   "language": "python",
   "name": "python3"
  },
  "language_info": {
   "codemirror_mode": {
    "name": "ipython",
    "version": 3
   },
   "file_extension": ".py",
   "mimetype": "text/x-python",
   "name": "python",
   "nbconvert_exporter": "python",
   "pygments_lexer": "ipython3",
   "version": "3.7.3"
  }
 },
 "nbformat": 4,
 "nbformat_minor": 2
}
